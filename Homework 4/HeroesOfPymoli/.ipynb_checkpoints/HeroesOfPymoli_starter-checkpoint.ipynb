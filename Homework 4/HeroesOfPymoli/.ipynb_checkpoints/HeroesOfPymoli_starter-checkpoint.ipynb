{
 "cells": [
  {
   "cell_type": "markdown",
   "metadata": {},
   "source": [
    "### Heroes Of Pymoli Data Analysis\n",
    "* Of the 1163 active players, the vast majority are male (84%). There also exists, a smaller, but notable proportion of female players (14%).\n",
    "\n",
    "* Our peak age demographic falls between 20-24 (44.8%) with secondary groups falling between 15-19 (18.60%) and 25-29 (13.4%).  \n",
    "-----"
   ]
  },
  {
   "cell_type": "markdown",
   "metadata": {},
   "source": [
    "### Note\n",
    "* Instructions have been included for each segment. You do not have to follow them exactly, but they are included to help you think through the steps."
   ]
  },
  {
   "cell_type": "code",
   "execution_count": 77,
   "metadata": {},
   "outputs": [
    {
     "data": {
      "text/plain": [
       "Purchase ID      int64\n",
       "SN              object\n",
       "Age              int64\n",
       "Gender          object\n",
       "Item ID          int64\n",
       "Item Name       object\n",
       "Price          float64\n",
       "dtype: object"
      ]
     },
     "execution_count": 77,
     "metadata": {},
     "output_type": "execute_result"
    }
   ],
   "source": [
    "# Dependencies and Setup\n",
    "import pandas as pd\n",
    "import numpy as np\n",
    "\n",
    "# Raw data file\n",
    "file_to_load = \"Resources/purchase_data.csv\"\n",
    "\n",
    "# Read purchasing file and store into pandas data frame\n",
    "pdata = pd.read_csv(file_to_load)\n",
    "pdata.dtypes"
   ]
  },
  {
   "cell_type": "markdown",
   "metadata": {},
   "source": [
    "## Player Count"
   ]
  },
  {
   "cell_type": "markdown",
   "metadata": {},
   "source": [
    "* Display the total number of players\n"
   ]
  },
  {
   "cell_type": "code",
   "execution_count": 78,
   "metadata": {
    "scrolled": true
   },
   "outputs": [
    {
     "name": "stdout",
     "output_type": "stream",
     "text": [
      "   Total Player\n",
      "0           576\n",
      "    Player names : \n",
      "0           Lisim78\n",
      "1       Lisovynya38\n",
      "2        Ithergue48\n",
      "3     Chamassasya86\n",
      "4         Iskosia90\n",
      "5           Yalae81\n",
      "6         Itheria73\n",
      "7       Iskjaskst81\n",
      "8         Undjask33\n",
      "9       Chanosian48\n",
      "10        Inguron55\n",
      "11     Haisrisuir60\n",
      "12     Saelaephos52\n",
      "13      Assjaskan73\n",
      "14      Saesrideu94\n",
      "15        Lisassa64\n",
      "16        Lisirra25\n",
      "17        Zontibe81\n",
      "18        Reunasu60\n",
      "19        Chamalo71\n",
      "20     Iathenudil29\n",
      "21    Phiarithdeu40\n",
      "22     Siarithria38\n",
      "23         Eyrian71\n",
      "24          Siala43\n",
      "25        Lisirra87\n",
      "26       Lirtossa84\n",
      "27          Eusri44\n",
      "28           Aela59\n",
      "29          Tyida79\n",
      "..              ...\n",
      "546    Chanosiaya39\n",
      "547       Assylla81\n",
      "548       Aidaira26\n",
      "549        Eudanu84\n",
      "550      Chamiman85\n",
      "551     Tyialisti80\n",
      "552       Marundi65\n",
      "553         Eusur90\n",
      "554   Mindirranya33\n",
      "555    Phiallylis33\n",
      "556          Isty55\n",
      "557     Frichilsa31\n",
      "558      Chanista95\n",
      "559      Aellyria80\n",
      "560   Rastynusuir31\n",
      "561        Iljask75\n",
      "562     Lisjaskan36\n",
      "563   Mindjasksya61\n",
      "564  Frichirranya75\n",
      "565         Ilast79\n",
      "566       Eratiel90\n",
      "567         Assim27\n",
      "568         Irith83\n",
      "569       Ilosian36\n",
      "570    Iskossasda43\n",
      "571          Hala31\n",
      "572      Jiskjask80\n",
      "573      Aethedru70\n",
      "574      Yathecal72\n",
      "575         Sisur91\n",
      "\n",
      "[576 rows x 1 columns]\n"
     ]
    }
   ],
   "source": [
    "uni=pdata.groupby([\"SN\"])\n",
    "uni =len(uni.count())   #length of unique names, get total number of players\n",
    "\n",
    "total_player_num=uni\n",
    "total_player=pd.DataFrame({\"Total Player\":[uni]})\n",
    "print(total_player)\n",
    "\n",
    "uni_name=pdata[\"SN\"].unique()   #get unique names\n",
    "uni_names=pd.DataFrame({\"Player names : \": uni_name})\n",
    "uni_names.head()\n",
    "print(uni_names)   #print the names of players"
   ]
  },
  {
   "cell_type": "markdown",
   "metadata": {},
   "source": [
    "## Purchasing Analysis (Total)"
   ]
  },
  {
   "cell_type": "markdown",
   "metadata": {},
   "source": [
    "* Run basic calculations to obtain number of unique items, average price, etc.\n",
    "\n",
    "\n",
    "* Create a summary data frame to hold the results\n",
    "\n",
    "\n",
    "* Optional: give the displayed data cleaner formatting\n",
    "\n",
    "\n",
    "* Display the summary data frame\n"
   ]
  },
  {
   "cell_type": "code",
   "execution_count": 79,
   "metadata": {
    "scrolled": true
   },
   "outputs": [
    {
     "name": "stdout",
     "output_type": "stream",
     "text": [
      "   Number of Unique Items  Average Price  Number of Purchase  Total Revenue\n",
      "0                     183           3.05                 780        2379.77\n"
     ]
    }
   ],
   "source": [
    "purchase= pdata.groupby([\"Item ID\"])\n",
    "purchase=len(purchase.count())\n",
    "\n",
    "price= pdata[\"Price\"].mean()\n",
    "price=np.round(price,decimals=2)\n",
    "\n",
    "purchase_number=pdata.groupby([\"Purchase ID\"])\n",
    "purchase_number=len(purchase_number.count())\n",
    "\n",
    "revenue=pdata[\"Price\"].sum()\n",
    "\n",
    "\n",
    "total_analysis=pd.DataFrame({\"Number of Unique Items\":[purchase],\n",
    "                             \"Average Price\":[price],\n",
    "                             \"Number of Purchase\":[purchase_number],\n",
    "                             \"Total Revenue\":revenue})\n",
    "total_analysis\n",
    "print(total_analysis)"
   ]
  },
  {
   "cell_type": "markdown",
   "metadata": {},
   "source": []
  },
  {
   "cell_type": "markdown",
   "metadata": {},
   "source": [
    "* Percentage and Count of Male Players\n",
    "\n",
    "\n",
    "* Percentage and Count of Female Players\n",
    "\n",
    "\n",
    "* Percentage and Count of Other / Non-Disclosed\n",
    "\n",
    "\n"
   ]
  },
  {
   "cell_type": "code",
   "execution_count": 80,
   "metadata": {},
   "outputs": [
    {
     "name": "stdout",
     "output_type": "stream",
     "text": [
      "                       Total Counts  Percentage of Players\n",
      "Male                            652             113.194444\n",
      "Famale                          113              19.618056\n",
      "Other / Non-Disclosed            15               2.604167\n"
     ]
    }
   ],
   "source": [
    "gender=pdata[\"Gender\"].value_counts()\n",
    "#gender=gender/total_player\n",
    "\n",
    "total_count=pd.DataFrame({\"Total Counts\":[gender[0],gender[1],gender[2]],\"Percentage of Players\":[(gender[0]/total_player_num)*100,(gender[1]/total_player_num)*100,(gender[2]/total_player_num)*100]})\n",
    "total_count=total_count.set_index([[\"Male\",\"Famale\",\"Other / Non-Disclosed\"]])\n",
    "total_count\n",
    "print(total_count)\n",
    "\n",
    "\n",
    "\n",
    "\n",
    "##percent_player=pd.DataFrame({\"Percentage of Players\":[(gender[0]/total_player_num)*100,(gender[1]/total_player_num)*100,(gender[2]/total_player_num)*100]})\n",
    "##percent_player=percent_player.set_index([[\"Male\",\"Famale\",\"Other / Non-Disclosed\"]])\n",
    "##percent_player\n",
    "\n",
    "##merged=total_count.merge(percent_player,on=(\"Total Counts\", \"Percentage Of Players\"))\n",
    "##merged"
   ]
  },
  {
   "cell_type": "markdown",
   "metadata": {},
   "source": [
    "\n",
    "## Purchasing Analysis (Gender)"
   ]
  },
  {
   "cell_type": "markdown",
   "metadata": {},
   "source": [
    "* Run basic calculations to obtain purchase count, avg. purchase price, avg. purchase total per person etc. by gender\n",
    "\n",
    "\n",
    "\n",
    "\n",
    "* Create a summary data frame to hold the results\n",
    "\n",
    "\n",
    "* Optional: give the displayed data cleaner formatting\n",
    "\n",
    "\n",
    "* Display the summary data frame"
   ]
  },
  {
   "cell_type": "code",
   "execution_count": 81,
   "metadata": {},
   "outputs": [
    {
     "name": "stdout",
     "output_type": "stream",
     "text": [
      "                       Purchase Count Average Purchase Price  \\\n",
      "Male                              652                  $ 3.2   \n",
      "Famale                            113                 $ 3.02   \n",
      "Other / Non-Disclosed              15                 $ 3.35   \n",
      "\n",
      "                      Total Purchase Value Avg Purchase Total per Person  \n",
      "Male                              $ 361.94                         $ 3.2  \n",
      "Famale                           $ 1967.64                        $ 3.02  \n",
      "Other / Non-Disclosed              $ 50.19                        $ 3.35  \n"
     ]
    }
   ],
   "source": [
    "#test=pdata[[\"Gender\",\"Purchase ID\"]]\n",
    "#test=test.set_index([\"Gender\"])\n",
    "#test=test.groupby([\"Purchase ID\"])\n",
    "#test=test[\"Gender\"].value_counts()\n",
    "\n",
    "\n",
    "test=pdata.groupby([\"Gender\"])\n",
    "    ##test=test.count()\n",
    "price_mean=test[\"Price\"].mean()\n",
    "price_mean=np.round(price_mean,decimals=2)\n",
    "    ##gender, price_mean\n",
    "price_sum=test[\"Price\"].sum()\n",
    "price_sum=np.round(price_sum,decimals=2)\n",
    "\n",
    "p_analysis=pd.DataFrame({\"Purchase Count\":[gender[0],gender[1],gender[2]],\n",
    "                         \"Average Purchase Price\":[\"$ \"+str(price_mean[0]),\"$ \"+str(price_mean[1]),\"$ \"+str(price_mean[2])],\n",
    "                         \"Total Purchase Value\":[\"$ \"+str(price_sum[0]),\"$ \"+str(price_sum[1]),\"$ \"+str(price_sum[2])],\n",
    "                         \"Avg Purchase Total per Person\":[\"$ \"+str(price_mean[0]),\"$ \"+str(price_mean[1]),\"$ \"+str(price_mean[2])]\n",
    "                        })\n",
    "p_analysis=p_analysis.set_index([[\"Male\",\"Famale\",\"Other / Non-Disclosed\"]])\n",
    "p_analysis\n",
    "print(p_analysis)\n",
    "##test = pdata.set_index(\"Gender\")\n",
    "##test.head()\n"
   ]
  },
  {
   "cell_type": "markdown",
   "metadata": {},
   "source": [
    "* Establish bins for ages\n",
    "\n",
    "\n",
    "* Categorize the existing players using the age bins. Hint: use pd.cut()\n",
    "\n",
    "\n",
    "* Calculate the numbers and percentages by age group\n",
    "\n",
    "\n",
    "* Create a summary data frame to hold the results\n",
    "\n",
    "\n",
    "* Optional: round the percentage column to two decimal points\n",
    "\n",
    "\n",
    "* Display Age Demographics Table\n"
   ]
  },
  {
   "cell_type": "code",
   "execution_count": 82,
   "metadata": {},
   "outputs": [
    {
     "name": "stdout",
     "output_type": "stream",
     "text": [
      "       Total Count  percent\n",
      "Range                      \n",
      "<10             23     3.99\n",
      "10-14           28     4.86\n",
      "15-19          136    23.61\n",
      "20-24          365    63.37\n",
      "25-29          101    17.53\n",
      "30-34           73    12.67\n",
      "35-39           41     7.12\n",
      "40+             13     2.26\n"
     ]
    }
   ],
   "source": [
    "# Establish bins for ages\n",
    "age_bins = [0, 9.90, 14.90, 19.90, 24.90, 29.90, 34.90, 39.90, 99999]\n",
    "group_names = [\"<10\", \"10-14\", \"15-19\", \"20-24\", \"25-29\", \"30-34\", \"35-39\", \"40+\"]\n",
    "\n",
    "\n",
    "showage=pd.DataFrame(pdata)#\"range\":group_names})  #get dataframe from original data\n",
    "showage[\"Range\"]=pd.cut(pdata[\"Age\"],age_bins,labels=group_names) #make new column to for the bin\n",
    "ageall=showage\n",
    "showage=showage[[\"Range\",\"Age\"]]  #just need age and total count\n",
    "showage=showage.rename(columns={\"Age\":\"Total Count\"}) #name correct\n",
    "\n",
    "#showage\n",
    "showage=showage.groupby(\"Range\").count() #get the result\n",
    "showage[\"percent\"]=showage[\"Total Count\"]/576*100\n",
    "showage[\"percent\"]=np.round(showage[\"percent\"],decimals=2)\n",
    "showage\n",
    "print(showage)\n",
    "\n"
   ]
  },
  {
   "cell_type": "markdown",
   "metadata": {},
   "source": [
    "## Purchasing Analysis (Age)"
   ]
  },
  {
   "cell_type": "markdown",
   "metadata": {},
   "source": [
    "* Bin the purchase_data data frame by age\n",
    "\n",
    "\n",
    "* Run basic calculations to obtain purchase count, avg. purchase price, avg. purchase total per person etc. in the table below\n",
    "\n",
    "\n",
    "* Create a summary data frame to hold the results\n",
    "\n",
    "\n",
    "* Optional: give the displayed data cleaner formatting\n",
    "\n",
    "\n",
    "* Display the summary data frame"
   ]
  },
  {
   "cell_type": "code",
   "execution_count": 83,
   "metadata": {},
   "outputs": [
    {
     "name": "stdout",
     "output_type": "stream",
     "text": [
      "      Total Purchase Price  Purchase Count Average Purchase per Person  \\\n",
      "Range                                                                    \n",
      "<10                 $77.13              23                       $3.35   \n",
      "10-14               $82.78              28                       $2.96   \n",
      "15-19              $412.89             136                       $3.04   \n",
      "20-24             $1114.06             365                       $3.05   \n",
      "25-29               $293.0             101                        $2.9   \n",
      "30-34               $214.0              73                       $2.93   \n",
      "35-39              $147.67              41                        $3.6   \n",
      "40+                 $38.24              13                       $2.94   \n",
      "\n",
      "      Average Purchase Price  \n",
      "Range                         \n",
      "<10                    $3.35  \n",
      "10-14                  $2.96  \n",
      "15-19                  $3.04  \n",
      "20-24                  $3.05  \n",
      "25-29                   $2.9  \n",
      "30-34                  $2.93  \n",
      "35-39                   $3.6  \n",
      "40+                    $2.94  \n"
     ]
    }
   ],
   "source": [
    "#ageana=showage[\"Total Count\"]\n",
    "ageana=ageall[[\"Range\",\"Price\"]]\n",
    "ageana=ageana.groupby([\"Range\"]).sum()\n",
    "#ageana=ageana[\"Price\"]\n",
    "ageana[\"Purchase Count\"]=showage[\"Total Count\"]\n",
    "ageana[\"Average Purchase per Person\"]= ageana[\"Price\"]/ageana[\"Purchase Count\"]\n",
    "ageana[\"Average Purchase per Person\"]= np.round(ageana[\"Average Purchase per Person\"], decimals=2)\n",
    "ageana[\"Average Purchase per Person\"]= \"$\"+ ageana[\"Average Purchase per Person\"].astype(str)\n",
    "ageana[\"Price\"]= np.round(ageana[\"Price\"],decimals=2)\n",
    "ageana[\"Price\"]= '$'+ageana[\"Price\"].astype(str)\n",
    "ageana=ageana.rename(columns={\"Price\":\"Total Purchase Price\"})\n",
    "ageana[\"Average Purchase Price\"]=ageana[\"Average Purchase per Person\"]\n",
    "ageana\n",
    "print(ageana)"
   ]
  },
  {
   "cell_type": "markdown",
   "metadata": {},
   "source": [
    "* Run basic calculations to obtain the results in the table below\n",
    "\n",
    "\n",
    "* Create a summary data frame to hold the results\n",
    "\n",
    "\n",
    "* Sort the total purchase value column in descending order\n",
    "\n",
    "\n",
    "* Optional: give the displayed data cleaner formatting\n",
    "\n",
    "\n",
    "* Display a preview of the summary data frame\n",
    "\n"
   ]
  },
  {
   "cell_type": "code",
   "execution_count": 84,
   "metadata": {
    "scrolled": true
   },
   "outputs": [
    {
     "name": "stdout",
     "output_type": "stream",
     "text": [
      "            Total Purchase Value  Purchase Count Average Purchase Price\n",
      "SN                                                                     \n",
      "Lisosia93                 $18.96               5                  $3.79\n",
      "Idastidru52               $15.45               4                  $3.86\n",
      "Chamjask73                $13.83               3                  $4.61\n",
      "Iral74                    $13.62               4                   $3.4\n",
      "Iskadarya95                $13.1               3                  $4.37\n"
     ]
    }
   ],
   "source": [
    "spenddata=pd.DataFrame(pdata)\n",
    "\n",
    "#spenddata=spenddata[[\"SN\",\"Price\"]]\n",
    "spenddata=spenddata.groupby(\"SN\")\n",
    "\n",
    "spenddata_count=spenddata.count()\n",
    "spenddata_sum=spenddata.sum()\n",
    "\n",
    "\n",
    "spend_sum=spenddata_sum.nlargest(5,\"Price\")\n",
    "spend_result=pd.DataFrame(spend_sum)\n",
    "#get total and round it\n",
    "spend_result[\"Total Purchase Value\"]=spend_sum[\"Price\"]\n",
    "spend_result[\"Total Purchase Value\"]=np.round(spend_result[\"Total Purchase Value\"], decimals=2)\n",
    "spend_result=spend_result.drop(columns=[\"Purchase ID\",\"Age\",\"Item ID\"])#get column we needs\n",
    "\n",
    "#get count\n",
    "spcount=spenddata_count.loc[[\"Lisosia93\",\"Idastidru52\",\"Chamjask73\",\"Iral74\",\"Iskadarya95\"],[\"Price\",\"Age\"]] # get counts\n",
    "\n",
    "spend_result[\"Purchase Count\"]=spcount[\"Price\"]\n",
    "\n",
    "\n",
    "#get average and round it\n",
    "spend_result[\"Average Purchase Price\"]=spend_result[\"Total Purchase Value\"]/spend_result[\"Purchase Count\"]\n",
    "spend_result[\"Average Purchase Price\"]=np.round(spend_result[\"Average Purchase Price\"], decimals=2)\n",
    "\n",
    "#remove not needed column\n",
    "spend_result=spend_result.drop(columns=\"Price\")\n",
    "\n",
    "# add $\n",
    "spend_result[\"Average Purchase Price\"]=\"$\"+spend_result[\"Average Purchase Price\"].astype(str)\n",
    "spend_result[\"Total Purchase Value\"]= \"$\"+spend_result[\"Total Purchase Value\"].astype(str)\n",
    "spend_result\n",
    "print(spend_result)\n",
    "\n"
   ]
  },
  {
   "cell_type": "markdown",
   "metadata": {},
   "source": [
    "## Most Popular Items"
   ]
  },
  {
   "cell_type": "markdown",
   "metadata": {},
   "source": [
    "* Retrieve the Item ID, Item Name, and Item Price columns\n",
    "\n",
    "\n",
    "* Group by Item ID and Item Name. Perform calculations to obtain purchase count, item price, and total purchase value\n",
    "\n",
    "\n",
    "* Create a summary data frame to hold the results\n",
    "\n",
    "\n",
    "* Sort the purchase count column in descending order\n",
    "\n",
    "\n",
    "* Optional: give the displayed data cleaner formatting\n",
    "\n",
    "\n",
    "* Display a preview of the summary data frame\n",
    "\n"
   ]
  },
  {
   "cell_type": "code",
   "execution_count": null,
   "metadata": {},
   "outputs": [],
   "source": []
  },
  {
   "cell_type": "markdown",
   "metadata": {},
   "source": [
    "## Most Profitable Items"
   ]
  },
  {
   "cell_type": "markdown",
   "metadata": {},
   "source": [
    "* Sort the above table by total purchase value in descending order\n",
    "\n",
    "\n",
    "* Optional: give the displayed data cleaner formatting\n",
    "\n",
    "\n",
    "* Display a preview of the data frame\n",
    "\n"
   ]
  },
  {
   "cell_type": "code",
   "execution_count": null,
   "metadata": {
    "scrolled": true
   },
   "outputs": [],
   "source": []
  },
  {
   "cell_type": "code",
   "execution_count": null,
   "metadata": {},
   "outputs": [],
   "source": []
  }
 ],
 "metadata": {
  "anaconda-cloud": {},
  "kernel_info": {
   "name": "python3"
  },
  "kernelspec": {
   "display_name": "Python 3",
   "language": "python",
   "name": "python3"
  },
  "language_info": {
   "codemirror_mode": {
    "name": "ipython",
    "version": 3
   },
   "file_extension": ".py",
   "mimetype": "text/x-python",
   "name": "python",
   "nbconvert_exporter": "python",
   "pygments_lexer": "ipython3",
   "version": "3.6.5"
  },
  "nteract": {
   "version": "0.8.4"
  }
 },
 "nbformat": 4,
 "nbformat_minor": 1
}
